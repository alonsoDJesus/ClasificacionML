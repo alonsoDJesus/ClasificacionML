{
  "cells": [
    {
      "attachments": {},
      "cell_type": "markdown",
      "metadata": {},
      "source": [
        "# Modelos de Clasificación"
      ]
    },
    {
      "attachments": {},
      "cell_type": "markdown",
      "metadata": {},
      "source": [
        "## Por:\n",
        "## * Eunice Yoshua Gómez Nuñez\n",
        "## * Alonso de Jesús Vargas Rincón"
      ]
    },
    {
      "attachments": {},
      "cell_type": "markdown",
      "metadata": {},
      "source": [
        "### Preparación de herramientas y conjunto de datos"
      ]
    },
    {
      "cell_type": "code",
      "execution_count": 12,
      "metadata": {
        "id": "82hQ1iDUjfs0"
      },
      "outputs": [],
      "source": [
        "# Importación de librerías para:\n",
        "import matplotlib.pyplot as plt # Elaboración de gráficos\n",
        "import pandas as pd # Dataframes\n",
        "import numpy as np \n",
        "from sklearn.ensemble import RandomForestClassifier # Modelo de Bosque aleatorio clasificador\n",
        "from sklearn.datasets import make_classification\n",
        "from sklearn.model_selection import train_test_split #Fragmentación de datos para entrenamiento y testeo\n",
        "from sklearn.svm import LinearSVC # Modelo Linear SVC"
      ]
    },
    {
      "cell_type": "code",
      "execution_count": 13,
      "metadata": {
        "colab": {
          "base_uri": "https://localhost:8080/",
          "height": 206
        },
        "id": "McH_Lrgflrej",
        "outputId": "b2f6c4c1-f2b6-4225-da34-ee7e3499ff82"
      },
      "outputs": [
        {
          "data": {
            "text/html": [
              "<div>\n",
              "<style scoped>\n",
              "    .dataframe tbody tr th:only-of-type {\n",
              "        vertical-align: middle;\n",
              "    }\n",
              "\n",
              "    .dataframe tbody tr th {\n",
              "        vertical-align: top;\n",
              "    }\n",
              "\n",
              "    .dataframe thead th {\n",
              "        text-align: right;\n",
              "    }\n",
              "</style>\n",
              "<table border=\"1\" class=\"dataframe\">\n",
              "  <thead>\n",
              "    <tr style=\"text-align: right;\">\n",
              "      <th></th>\n",
              "      <th>A1</th>\n",
              "      <th>A2</th>\n",
              "      <th>A3</th>\n",
              "      <th>A4</th>\n",
              "      <th>A5</th>\n",
              "      <th>A6</th>\n",
              "      <th>A7</th>\n",
              "      <th>A8</th>\n",
              "      <th>A9</th>\n",
              "      <th>A10</th>\n",
              "      <th>A11</th>\n",
              "      <th>A12</th>\n",
              "      <th>A13</th>\n",
              "      <th>A14</th>\n",
              "      <th>class</th>\n",
              "    </tr>\n",
              "  </thead>\n",
              "  <tbody>\n",
              "    <tr>\n",
              "      <th>0</th>\n",
              "      <td>1</td>\n",
              "      <td>22.08</td>\n",
              "      <td>11.46</td>\n",
              "      <td>2</td>\n",
              "      <td>4</td>\n",
              "      <td>4</td>\n",
              "      <td>1.585</td>\n",
              "      <td>0</td>\n",
              "      <td>0</td>\n",
              "      <td>0</td>\n",
              "      <td>1</td>\n",
              "      <td>2</td>\n",
              "      <td>100</td>\n",
              "      <td>1213</td>\n",
              "      <td>0</td>\n",
              "    </tr>\n",
              "    <tr>\n",
              "      <th>1</th>\n",
              "      <td>0</td>\n",
              "      <td>22.67</td>\n",
              "      <td>7.00</td>\n",
              "      <td>2</td>\n",
              "      <td>8</td>\n",
              "      <td>4</td>\n",
              "      <td>0.165</td>\n",
              "      <td>0</td>\n",
              "      <td>0</td>\n",
              "      <td>0</td>\n",
              "      <td>0</td>\n",
              "      <td>2</td>\n",
              "      <td>160</td>\n",
              "      <td>1</td>\n",
              "      <td>0</td>\n",
              "    </tr>\n",
              "    <tr>\n",
              "      <th>2</th>\n",
              "      <td>0</td>\n",
              "      <td>29.58</td>\n",
              "      <td>1.75</td>\n",
              "      <td>1</td>\n",
              "      <td>4</td>\n",
              "      <td>4</td>\n",
              "      <td>1.250</td>\n",
              "      <td>0</td>\n",
              "      <td>0</td>\n",
              "      <td>0</td>\n",
              "      <td>1</td>\n",
              "      <td>2</td>\n",
              "      <td>280</td>\n",
              "      <td>1</td>\n",
              "      <td>0</td>\n",
              "    </tr>\n",
              "    <tr>\n",
              "      <th>3</th>\n",
              "      <td>0</td>\n",
              "      <td>21.67</td>\n",
              "      <td>11.50</td>\n",
              "      <td>1</td>\n",
              "      <td>5</td>\n",
              "      <td>3</td>\n",
              "      <td>0.000</td>\n",
              "      <td>1</td>\n",
              "      <td>1</td>\n",
              "      <td>11</td>\n",
              "      <td>1</td>\n",
              "      <td>2</td>\n",
              "      <td>0</td>\n",
              "      <td>1</td>\n",
              "      <td>1</td>\n",
              "    </tr>\n",
              "    <tr>\n",
              "      <th>4</th>\n",
              "      <td>1</td>\n",
              "      <td>20.17</td>\n",
              "      <td>8.17</td>\n",
              "      <td>2</td>\n",
              "      <td>6</td>\n",
              "      <td>4</td>\n",
              "      <td>1.960</td>\n",
              "      <td>1</td>\n",
              "      <td>1</td>\n",
              "      <td>14</td>\n",
              "      <td>0</td>\n",
              "      <td>2</td>\n",
              "      <td>60</td>\n",
              "      <td>159</td>\n",
              "      <td>1</td>\n",
              "    </tr>\n",
              "  </tbody>\n",
              "</table>\n",
              "</div>"
            ],
            "text/plain": [
              "   A1     A2     A3  A4  A5  A6     A7  A8  A9  A10  A11  A12  A13   A14   \n",
              "0   1  22.08  11.46   2   4   4  1.585   0   0    0    1    2  100  1213  \\\n",
              "1   0  22.67   7.00   2   8   4  0.165   0   0    0    0    2  160     1   \n",
              "2   0  29.58   1.75   1   4   4  1.250   0   0    0    1    2  280     1   \n",
              "3   0  21.67  11.50   1   5   3  0.000   1   1   11    1    2    0     1   \n",
              "4   1  20.17   8.17   2   6   4  1.960   1   1   14    0    2   60   159   \n",
              "\n",
              "   class  \n",
              "0      0  \n",
              "1      0  \n",
              "2      0  \n",
              "3      1  \n",
              "4      1  "
            ]
          },
          "execution_count": 13,
          "metadata": {},
          "output_type": "execute_result"
        }
      ],
      "source": [
        "mipath = 'australian.dat' # Ruta del conjunto de datos\n",
        "data = pd.read_csv(mipath, sep=\" \", header=None) # Generación de dataframe\n",
        "data.columns = [\"A1\", \"A2\", \"A3\", \"A4\", \"A5\", \"A6\", \"A7\", \"A8\", \"A9\", \"A10\", \"A11\", \"A12\",\"A13\", \"A14\", \"class\"] # Etiquetación de columnas\n",
        "data.head() # Impresión de los primeros 5 elementos"
      ]
    },
    {
      "cell_type": "code",
      "execution_count": 14,
      "metadata": {
        "id": "Zq22nClPla1N"
      },
      "outputs": [],
      "source": [
        "X = data.iloc[:, :-1] # Para x se toman todas las columnas a excepción del target (Classs)\n",
        "y = data[[\"class\"]] # Para y se toma el target (class)"
      ]
    },
    {
      "cell_type": "code",
      "execution_count": 38,
      "metadata": {
        "colab": {
          "base_uri": "https://localhost:8080/"
        },
        "id": "kY7lil9Amexb",
        "outputId": "71395121-c670-4430-e91d-9b65581971d0"
      },
      "outputs": [
        {
          "name": "stdout",
          "output_type": "stream",
          "text": [
            "Total de datos:  690\n",
            "Total de los datos de la clase positiva:  307\n",
            "Porcentaje de datos de la clase positiva: 44.492754%\n",
            "Porcentaje de datos de la clase negativa: 55.507246%\n"
          ]
        }
      ],
      "source": [
        "# Impresión de:\n",
        "print(\"Total de datos: \", y.shape[0]) # Cantidad de registros (filas)\n",
        "print(\"Total de los datos de la clase positiva: \", sum( y[\"class\"] )) # Cantidad de 1s en el target\n",
        "\n",
        "print(\"Porcentaje de datos de la clase positiva: %1f%%\" %( 100*sum( y[\"class\"] ) / y.shape[0] )) # Porcentaje de 1s en el target\n",
        "print(\"Porcentaje de datos de la clase negativa: %1f%%\" %(100*(1-sum(y[\"class\"])/y.shape[0]))) # Porcentaje de 1s en el target\n"
      ]
    },
    {
      "attachments": {},
      "cell_type": "markdown",
      "metadata": {},
      "source": [
        "### Fragmentación de los datos"
      ]
    },
    {
      "cell_type": "code",
      "execution_count": 16,
      "metadata": {
        "id": "K_44ct0Smg6y"
      },
      "outputs": [],
      "source": [
        "X_train, X_test, y_train, y_test = train_test_split(X, y, train_size=0.6, random_state=45) # Partición de datos en"
      ]
    },
    {
      "cell_type": "code",
      "execution_count": 17,
      "metadata": {
        "colab": {
          "base_uri": "https://localhost:8080/"
        },
        "id": "0p9HWF6fmpYr",
        "outputId": "92737b46-ba0a-47e6-c3ad-63d385ffa19f"
      },
      "outputs": [
        {
          "name": "stdout",
          "output_type": "stream",
          "text": [
            "(414, 14)\n",
            "(414, 1)\n",
            "(276, 14)\n",
            "(276, 1)\n"
          ]
        }
      ],
      "source": [
        "# Impresión de cantidad de registros y campos para:\n",
        "print(X_train.shape) # datos de entrenamiento de X\n",
        "print(y_train.shape) # datos de entrenamiento de y\n",
        "print(X_test.shape) # datos de prueba de x\n",
        "print(y_test.shape) # datos de prueba de y"
      ]
    },
    {
      "attachments": {},
      "cell_type": "markdown",
      "metadata": {},
      "source": [
        "### Evaluación de los modelos"
      ]
    },
    {
      "attachments": {},
      "cell_type": "markdown",
      "metadata": {},
      "source": [
        "Random Forest Classifier"
      ]
    },
    {
      "cell_type": "code",
      "execution_count": 18,
      "metadata": {
        "colab": {
          "base_uri": "https://localhost:8080/"
        },
        "id": "fsTDed68mxkb",
        "outputId": "45fcc0a0-5116-4f85-a707-34a1d5aecc25"
      },
      "outputs": [
        {
          "name": "stdout",
          "output_type": "stream",
          "text": [
            "Árbol de Decisión con parámetros por default\n",
            "Promedio y desviación estándar 88.695652% (0.7)\n",
            "[0.8804347826086957, 0.8804347826086957, 0.9021739130434783, 0.8876811594202898, 0.8876811594202898, 0.8876811594202898, 0.8913043478260869, 0.8804347826086957, 0.8913043478260869, 0.8804347826086957]\n"
          ]
        }
      ],
      "source": [
        "n_for = 10\n",
        "listaEvalsRF = list() # Lista para almacenar puntuaciones\n",
        "\n",
        "# 10 veces se repetirá lo siguiente:\n",
        "for k in range(n_for):\n",
        "  modelo_RF = RandomForestClassifier() # Creación de un modelo de bosque aleatorio clasificador\n",
        "  modelo_RF.fit(X_train, y_train.values.ravel()) # Entrenamiento del modelo\n",
        "  tmp = modelo_RF.score(X_test, y_test) # Obtención del score de precisión\n",
        "  listaEvalsRF.append(tmp) # Almacenamiento de dicho score en la lista de puntuaciones\n",
        "\n",
        "# Se imprime el promedio y la desviación estándar de todos los escores\n",
        "print('Árbol de Decisión con parámetros por default\\nPromedio y desviación estándar %1f%% (%.1f)' % (100*np.mean(listaEvalsRF), 100*np.std(listaEvalsRF)))\n",
        "print(listaEvalsRF)"
      ]
    },
    {
      "cell_type": "code",
      "execution_count": 19,
      "metadata": {
        "colab": {
          "base_uri": "https://localhost:8080/"
        },
        "id": "vm4R2kdHoWLo",
        "outputId": "a1e757a4-ddad-48b1-a22a-92c91e3f624c"
      },
      "outputs": [
        {
          "name": "stdout",
          "output_type": "stream",
          "text": [
            "Árbol de Decisión\n",
            "Exactitud(Accuracy) con parámetros ajustados:\n",
            "Train:\t100.00% \n",
            "Test:\t90.22%\n",
            "[0.894927536231884, 0.8913043478260869, 0.8985507246376812, 0.9021739130434783, 0.894927536231884, 0.894927536231884, 0.8985507246376812, 0.8913043478260869, 0.8985507246376812, 0.9021739130434783]\n"
          ]
        }
      ],
      "source": [
        "listaEvalsRF_P = list()\n",
        "\n",
        "# Nuevamente se tendrán 10 repeticiones con:\n",
        "for k in range(n_for):\n",
        "\n",
        "  # Creación del modelo pero ahora con parámetros, que son:\n",
        "  modelo_RF = RandomForestClassifier(n_estimators = 100, # número de árboles aleatorios a generar para el bosque.\n",
        "                                     criterion = 'gini', # función que se mide la calidad de cada división en cada nodo.\n",
        "                                     max_depth=None, # profundidad máxima de cada árbol.\n",
        "                                     min_samples_split=2, # profundidad máxima de cada árbol.\n",
        "                                     min_samples_leaf=1, # mínimo de datos que deben quedar en cada hoja después de cada división.\n",
        "                                     max_features=12) # máximo de variables a seleccionar aleatoriamente en cada árbol del bosque.\n",
        "  modelo_RF.fit(X_train, y_train.values.ravel()) # Entrenamiento del modelo\n",
        "  tmp = modelo_RF.score(X_test, y_test) # Obtención del score de precisión\n",
        "  listaEvalsRF_P.append(tmp) # Almacenamiento de dicho score en la lista de puntuaciones\n",
        "\n",
        "#  Impresión de la exactitud del modelo con datos de entrenamiento y datos de testeo\n",
        "print(\"Árbol de Decisión\\nExactitud(Accuracy) con parámetros ajustados:\\nTrain:\\t%.2f%% \\nTest:\\t%.2f%%\"\n",
        "      %(100*modelo_RF.score(X_train, y_train), 100*modelo_RF.score(X_test, y_test)))\n",
        "\n",
        "print(listaEvalsRF_P)"
      ]
    },
    {
      "cell_type": "code",
      "execution_count": 20,
      "metadata": {
        "colab": {
          "base_uri": "https://localhost:8080/",
          "height": 363
        },
        "id": "cK_aQTG6p6kW",
        "outputId": "1d521a7b-01d3-42e7-9007-c0b994cae523"
      },
      "outputs": [
        {
          "data": {
            "text/html": [
              "<div>\n",
              "<style scoped>\n",
              "    .dataframe tbody tr th:only-of-type {\n",
              "        vertical-align: middle;\n",
              "    }\n",
              "\n",
              "    .dataframe tbody tr th {\n",
              "        vertical-align: top;\n",
              "    }\n",
              "\n",
              "    .dataframe thead th {\n",
              "        text-align: right;\n",
              "    }\n",
              "</style>\n",
              "<table border=\"1\" class=\"dataframe\">\n",
              "  <thead>\n",
              "    <tr style=\"text-align: right;\">\n",
              "      <th></th>\n",
              "      <th>default</th>\n",
              "      <th>ajustado</th>\n",
              "    </tr>\n",
              "  </thead>\n",
              "  <tbody>\n",
              "    <tr>\n",
              "      <th>0</th>\n",
              "      <td>0.880435</td>\n",
              "      <td>0.894928</td>\n",
              "    </tr>\n",
              "    <tr>\n",
              "      <th>1</th>\n",
              "      <td>0.880435</td>\n",
              "      <td>0.891304</td>\n",
              "    </tr>\n",
              "    <tr>\n",
              "      <th>2</th>\n",
              "      <td>0.902174</td>\n",
              "      <td>0.898551</td>\n",
              "    </tr>\n",
              "    <tr>\n",
              "      <th>3</th>\n",
              "      <td>0.887681</td>\n",
              "      <td>0.902174</td>\n",
              "    </tr>\n",
              "    <tr>\n",
              "      <th>4</th>\n",
              "      <td>0.887681</td>\n",
              "      <td>0.894928</td>\n",
              "    </tr>\n",
              "    <tr>\n",
              "      <th>5</th>\n",
              "      <td>0.887681</td>\n",
              "      <td>0.894928</td>\n",
              "    </tr>\n",
              "    <tr>\n",
              "      <th>6</th>\n",
              "      <td>0.891304</td>\n",
              "      <td>0.898551</td>\n",
              "    </tr>\n",
              "    <tr>\n",
              "      <th>7</th>\n",
              "      <td>0.880435</td>\n",
              "      <td>0.891304</td>\n",
              "    </tr>\n",
              "    <tr>\n",
              "      <th>8</th>\n",
              "      <td>0.891304</td>\n",
              "      <td>0.898551</td>\n",
              "    </tr>\n",
              "    <tr>\n",
              "      <th>9</th>\n",
              "      <td>0.880435</td>\n",
              "      <td>0.902174</td>\n",
              "    </tr>\n",
              "  </tbody>\n",
              "</table>\n",
              "</div>"
            ],
            "text/plain": [
              "    default  ajustado\n",
              "0  0.880435  0.894928\n",
              "1  0.880435  0.891304\n",
              "2  0.902174  0.898551\n",
              "3  0.887681  0.902174\n",
              "4  0.887681  0.894928\n",
              "5  0.887681  0.894928\n",
              "6  0.891304  0.898551\n",
              "7  0.880435  0.891304\n",
              "8  0.891304  0.898551\n",
              "9  0.880435  0.902174"
            ]
          },
          "execution_count": 20,
          "metadata": {},
          "output_type": "execute_result"
        }
      ],
      "source": [
        "# Nuevo dataframe donde cada columna se compone de los resultados dados por los modelos evaluados en los ciclos\n",
        "ddff = pd.DataFrame(list(zip(listaEvalsRF, listaEvalsRF_P)), columns=[\"default\", \"ajustado\"])\n",
        "ddff"
      ]
    },
    {
      "cell_type": "code",
      "execution_count": 21,
      "metadata": {
        "colab": {
          "base_uri": "https://localhost:8080/",
          "height": 452
        },
        "id": "F00-Qk8-qDyB",
        "outputId": "3c6963be-d853-4b36-e80e-fecbc912ba9f"
      },
      "outputs": [
        {
          "data": {
            "image/png": "[encoded data removed]",
            "text/plain": [
              "<Figure size 640x480 with 1 Axes>"
            ]
          },
          "metadata": {},
          "output_type": "display_data"
        }
      ],
      "source": [
        "#Dibujamos los boxplot del dataframe\n",
        "ddff.plot(kind='box')\n",
        "plt.title('Arbol de decision: Exactitud (accuracy)')\n",
        "plt.show()"
      ]
    },
    {
      "attachments": {},
      "cell_type": "markdown",
      "metadata": {
        "id": "rlCIhRKVNV-t"
      },
      "source": [
        "Linear Support Vector Classifier (Linear SVC)"
      ]
    },
    {
      "cell_type": "code",
      "execution_count": 32,
      "metadata": {
        "id": "HHkncIWNNgZW"
      },
      "outputs": [
        {
          "name": "stderr",
          "output_type": "stream",
          "text": [
            "c:\\Users\\usuario\\AppData\\Local\\Programs\\Python\\Python311\\Lib\\site-packages\\sklearn\\svm\\_base.py:1244: ConvergenceWarning: Liblinear failed to converge, increase the number of iterations.\n",
            "  warnings.warn(\n",
            "c:\\Users\\usuario\\AppData\\Local\\Programs\\Python\\Python311\\Lib\\site-packages\\sklearn\\svm\\_base.py:1244: ConvergenceWarning: Liblinear failed to converge, increase the number of iterations.\n",
            "  warnings.warn(\n",
            "c:\\Users\\usuario\\AppData\\Local\\Programs\\Python\\Python311\\Lib\\site-packages\\sklearn\\svm\\_base.py:1244: ConvergenceWarning: Liblinear failed to converge, increase the number of iterations.\n",
            "  warnings.warn(\n",
            "c:\\Users\\usuario\\AppData\\Local\\Programs\\Python\\Python311\\Lib\\site-packages\\sklearn\\svm\\_base.py:1244: ConvergenceWarning: Liblinear failed to converge, increase the number of iterations.\n",
            "  warnings.warn(\n",
            "c:\\Users\\usuario\\AppData\\Local\\Programs\\Python\\Python311\\Lib\\site-packages\\sklearn\\svm\\_base.py:1244: ConvergenceWarning: Liblinear failed to converge, increase the number of iterations.\n",
            "  warnings.warn(\n",
            "c:\\Users\\usuario\\AppData\\Local\\Programs\\Python\\Python311\\Lib\\site-packages\\sklearn\\svm\\_base.py:1244: ConvergenceWarning: Liblinear failed to converge, increase the number of iterations.\n",
            "  warnings.warn(\n",
            "c:\\Users\\usuario\\AppData\\Local\\Programs\\Python\\Python311\\Lib\\site-packages\\sklearn\\svm\\_base.py:1244: ConvergenceWarning: Liblinear failed to converge, increase the number of iterations.\n",
            "  warnings.warn(\n",
            "c:\\Users\\usuario\\AppData\\Local\\Programs\\Python\\Python311\\Lib\\site-packages\\sklearn\\svm\\_base.py:1244: ConvergenceWarning: Liblinear failed to converge, increase the number of iterations.\n",
            "  warnings.warn(\n",
            "c:\\Users\\usuario\\AppData\\Local\\Programs\\Python\\Python311\\Lib\\site-packages\\sklearn\\svm\\_base.py:1244: ConvergenceWarning: Liblinear failed to converge, increase the number of iterations.\n",
            "  warnings.warn(\n"
          ]
        },
        {
          "name": "stdout",
          "output_type": "stream",
          "text": [
            "SVC con parametros por default\n",
            "Promedio y desviacion estandar: 79.7 (9.4\n"
          ]
        },
        {
          "name": "stderr",
          "output_type": "stream",
          "text": [
            "c:\\Users\\usuario\\AppData\\Local\\Programs\\Python\\Python311\\Lib\\site-packages\\sklearn\\svm\\_base.py:1244: ConvergenceWarning: Liblinear failed to converge, increase the number of iterations.\n",
            "  warnings.warn(\n"
          ]
        }
      ],
      "source": [
        "#Se crea el primer ciclo for para el modelo base. El resultado del ciclo se guarda en la variable listaEvalsvc\n",
        "n_for = 10\n",
        "listaEvalsvc = list()\n",
        "\n",
        "for k in range(n_for):\n",
        "  modelo_svc = LinearSVC()\n",
        "  modelo_svc.fit(X_train, y_train.values.ravel())\n",
        "  tmp = modelo_svc.score(X_test, y_test)\n",
        "  listaEvalsvc.append(tmp)\n",
        "\n",
        "print(\"SVC con parametros por default\")\n",
        "print(\"Promedio y desviacion estandar: %.1f (%.1f\" % (100*np.mean(listaEvalsvc), 100*np.std(listaEvalsvc)))"
      ]
    },
    {
      "cell_type": "code",
      "execution_count": 33,
      "metadata": {
        "id": "edYdrNVsNnP6"
      },
      "outputs": [
        {
          "name": "stdout",
          "output_type": "stream",
          "text": [
            "El SVC \n",
            "Exactitud (accuracy)con parametros ajustados:\n",
            "Train:\t0.84 \n",
            "Test: \t89.13%\n"
          ]
        },
        {
          "name": "stderr",
          "output_type": "stream",
          "text": [
            "c:\\Users\\usuario\\AppData\\Local\\Programs\\Python\\Python311\\Lib\\site-packages\\sklearn\\utils\\validation.py:1143: DataConversionWarning: A column-vector y was passed when a 1d array was expected. Please change the shape of y to (n_samples, ), for example using ravel().\n",
            "  y = column_or_1d(y, warn=True)\n",
            "c:\\Users\\usuario\\AppData\\Local\\Programs\\Python\\Python311\\Lib\\site-packages\\sklearn\\utils\\validation.py:1143: DataConversionWarning: A column-vector y was passed when a 1d array was expected. Please change the shape of y to (n_samples, ), for example using ravel().\n",
            "  y = column_or_1d(y, warn=True)\n",
            "c:\\Users\\usuario\\AppData\\Local\\Programs\\Python\\Python311\\Lib\\site-packages\\sklearn\\utils\\validation.py:1143: DataConversionWarning: A column-vector y was passed when a 1d array was expected. Please change the shape of y to (n_samples, ), for example using ravel().\n",
            "  y = column_or_1d(y, warn=True)\n",
            "c:\\Users\\usuario\\AppData\\Local\\Programs\\Python\\Python311\\Lib\\site-packages\\sklearn\\utils\\validation.py:1143: DataConversionWarning: A column-vector y was passed when a 1d array was expected. Please change the shape of y to (n_samples, ), for example using ravel().\n",
            "  y = column_or_1d(y, warn=True)\n",
            "c:\\Users\\usuario\\AppData\\Local\\Programs\\Python\\Python311\\Lib\\site-packages\\sklearn\\utils\\validation.py:1143: DataConversionWarning: A column-vector y was passed when a 1d array was expected. Please change the shape of y to (n_samples, ), for example using ravel().\n",
            "  y = column_or_1d(y, warn=True)\n",
            "c:\\Users\\usuario\\AppData\\Local\\Programs\\Python\\Python311\\Lib\\site-packages\\sklearn\\utils\\validation.py:1143: DataConversionWarning: A column-vector y was passed when a 1d array was expected. Please change the shape of y to (n_samples, ), for example using ravel().\n",
            "  y = column_or_1d(y, warn=True)\n",
            "c:\\Users\\usuario\\AppData\\Local\\Programs\\Python\\Python311\\Lib\\site-packages\\sklearn\\utils\\validation.py:1143: DataConversionWarning: A column-vector y was passed when a 1d array was expected. Please change the shape of y to (n_samples, ), for example using ravel().\n",
            "  y = column_or_1d(y, warn=True)\n",
            "c:\\Users\\usuario\\AppData\\Local\\Programs\\Python\\Python311\\Lib\\site-packages\\sklearn\\utils\\validation.py:1143: DataConversionWarning: A column-vector y was passed when a 1d array was expected. Please change the shape of y to (n_samples, ), for example using ravel().\n",
            "  y = column_or_1d(y, warn=True)\n",
            "c:\\Users\\usuario\\AppData\\Local\\Programs\\Python\\Python311\\Lib\\site-packages\\sklearn\\utils\\validation.py:1143: DataConversionWarning: A column-vector y was passed when a 1d array was expected. Please change the shape of y to (n_samples, ), for example using ravel().\n",
            "  y = column_or_1d(y, warn=True)\n",
            "c:\\Users\\usuario\\AppData\\Local\\Programs\\Python\\Python311\\Lib\\site-packages\\sklearn\\utils\\validation.py:1143: DataConversionWarning: A column-vector y was passed when a 1d array was expected. Please change the shape of y to (n_samples, ), for example using ravel().\n",
            "  y = column_or_1d(y, warn=True)\n"
          ]
        }
      ],
      "source": [
        "#Se crea el ciclo for para el modelo con hiper parametros. El resultado de este ciclo se guarda en la variable listaEvalsvc2\n",
        "n_for=10\n",
        "listaEvalsvc2 = list()\n",
        "for k in range(n_for):\n",
        "  modelo_svc = LinearSVC(C=0.1, penalty=\"l1\", dual=False)\n",
        "  modelo_svc.fit(X_train,y_train)\n",
        "  tmp = modelo_svc.score(X_test, y_test)\n",
        "  listaEvalsvc2.append(tmp)\n",
        "\n",
        "print(\"El SVC \\nExactitud (accuracy)con parametros ajustados:\\nTrain:\\t%.2f \\nTest: \\t%.2f%%\"%(modelo_svc.score(X_train,y_train),100*modelo_svc.score(X_test,y_test)))"
      ]
    },
    {
      "cell_type": "code",
      "execution_count": 34,
      "metadata": {
        "id": "yCYm7zTYNtyK"
      },
      "outputs": [
        {
          "data": {
            "text/html": [
              "<div>\n",
              "<style scoped>\n",
              "    .dataframe tbody tr th:only-of-type {\n",
              "        vertical-align: middle;\n",
              "    }\n",
              "\n",
              "    .dataframe tbody tr th {\n",
              "        vertical-align: top;\n",
              "    }\n",
              "\n",
              "    .dataframe thead th {\n",
              "        text-align: right;\n",
              "    }\n",
              "</style>\n",
              "<table border=\"1\" class=\"dataframe\">\n",
              "  <thead>\n",
              "    <tr style=\"text-align: right;\">\n",
              "      <th></th>\n",
              "      <th>default</th>\n",
              "      <th>ajustado</th>\n",
              "    </tr>\n",
              "  </thead>\n",
              "  <tbody>\n",
              "    <tr>\n",
              "      <th>0</th>\n",
              "      <td>0.818841</td>\n",
              "      <td>0.891304</td>\n",
              "    </tr>\n",
              "    <tr>\n",
              "      <th>1</th>\n",
              "      <td>0.855072</td>\n",
              "      <td>0.891304</td>\n",
              "    </tr>\n",
              "    <tr>\n",
              "      <th>2</th>\n",
              "      <td>0.826087</td>\n",
              "      <td>0.891304</td>\n",
              "    </tr>\n",
              "    <tr>\n",
              "      <th>3</th>\n",
              "      <td>0.865942</td>\n",
              "      <td>0.891304</td>\n",
              "    </tr>\n",
              "    <tr>\n",
              "      <th>4</th>\n",
              "      <td>0.869565</td>\n",
              "      <td>0.891304</td>\n",
              "    </tr>\n",
              "    <tr>\n",
              "      <th>5</th>\n",
              "      <td>0.858696</td>\n",
              "      <td>0.891304</td>\n",
              "    </tr>\n",
              "    <tr>\n",
              "      <th>6</th>\n",
              "      <td>0.793478</td>\n",
              "      <td>0.891304</td>\n",
              "    </tr>\n",
              "    <tr>\n",
              "      <th>7</th>\n",
              "      <td>0.826087</td>\n",
              "      <td>0.891304</td>\n",
              "    </tr>\n",
              "    <tr>\n",
              "      <th>8</th>\n",
              "      <td>0.550725</td>\n",
              "      <td>0.891304</td>\n",
              "    </tr>\n",
              "    <tr>\n",
              "      <th>9</th>\n",
              "      <td>0.706522</td>\n",
              "      <td>0.891304</td>\n",
              "    </tr>\n",
              "  </tbody>\n",
              "</table>\n",
              "</div>"
            ],
            "text/plain": [
              "    default  ajustado\n",
              "0  0.818841  0.891304\n",
              "1  0.855072  0.891304\n",
              "2  0.826087  0.891304\n",
              "3  0.865942  0.891304\n",
              "4  0.869565  0.891304\n",
              "5  0.858696  0.891304\n",
              "6  0.793478  0.891304\n",
              "7  0.826087  0.891304\n",
              "8  0.550725  0.891304\n",
              "9  0.706522  0.891304"
            ]
          },
          "execution_count": 34,
          "metadata": {},
          "output_type": "execute_result"
        }
      ],
      "source": [
        "#Se crea el dataFrame para evualuar las listas del modelo (en este caso listaEvalsvc y listaEvalsvc2)\n",
        "ddff=pd.DataFrame(list(zip(listaEvalsvc,listaEvalsvc2)),columns=[\"default\",\"ajustado\"])\n",
        "ddff"
      ]
    },
    {
      "cell_type": "code",
      "execution_count": 35,
      "metadata": {
        "id": "ywqfY6GINyeI"
      },
      "outputs": [
        {
          "data": {
            "image/png": "[encoded data removed]",
            "text/plain": [
              "<Figure size 640x480 with 1 Axes>"
            ]
          },
          "metadata": {},
          "output_type": "display_data"
        }
      ],
      "source": [
        "#Se grafica el resultado del dataFrame\n",
        "ddff.plot(kind=\"box\")\n",
        "plt.title(\"SVC: exactitud (accuracy)\")\n",
        "plt.show()"
      ]
    }
  ],
  "metadata": {
    "colab": {
      "provenance": []
    },
    "kernelspec": {
      "display_name": "Python 3",
      "name": "python3"
    },
    "language_info": {
      "codemirror_mode": {
        "name": "ipython",
        "version": 3
      },
      "file_extension": ".py",
      "mimetype": "text/x-python",
      "name": "python",
      "nbconvert_exporter": "python",
      "pygments_lexer": "ipython3",
      "version": "3.11.3"
    }
  },
  "nbformat": 4,
  "nbformat_minor": 0
}
